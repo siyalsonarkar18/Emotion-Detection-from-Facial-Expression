{
 "cells": [
  {
   "cell_type": "code",
   "execution_count": 8,
   "metadata": {},
   "outputs": [
    {
     "name": "stdout",
     "output_type": "stream",
     "text": [
      "SUMMARY\n",
      "_________________________________________________________________\n",
      "Layer (type)                 Output Shape              Param #   \n",
      "=================================================================\n",
      "conv2d_1 (Conv2D)            (None, 350, 350, 64)      640       \n",
      "_________________________________________________________________\n",
      "conv1 (Activation)           (None, 350, 350, 64)      0         \n",
      "_________________________________________________________________\n",
      "pool1 (MaxPooling2D)         (None, 175, 175, 64)      0         \n",
      "_________________________________________________________________\n",
      "conv2d_2 (Conv2D)            (None, 175, 175, 32)      18464     \n",
      "_________________________________________________________________\n",
      "conv2 (Activation)           (None, 175, 175, 32)      0         \n",
      "_________________________________________________________________\n",
      "pool2 (MaxPooling2D)         (None, 87, 87, 32)        0         \n",
      "_________________________________________________________________\n",
      "flatten_1 (Flatten)          (None, 242208)            0         \n",
      "_________________________________________________________________\n",
      "dense_1 (Dense)              (None, 200)               48441800  \n",
      "_________________________________________________________________\n",
      "dropout_1 (Dropout)          (None, 200)               0         \n",
      "_________________________________________________________________\n",
      "dense_2 (Dense)              (None, 8)                 1608      \n",
      "=================================================================\n",
      "Total params: 48,462,512\n",
      "Trainable params: 48,462,512\n",
      "Non-trainable params: 0\n",
      "_________________________________________________________________\n",
      "None\n"
     ]
    }
   ],
   "source": [
    "import h5py\n",
    "from keras.models import load_model\n",
    "f = h5py.File('emotion_model_trained10ep.h5', 'r')\n",
    "# print('Download model weights from %s' % (modelUrl))\n",
    "# modelFile = get_file(os.path.basename(modelUrl), modelUrl)\n",
    "# print('Download complete -- %d bytes' % (os.path.getsize(modelFile)))\n",
    "\n",
    "model = load_model(f)\n",
    "print('SUMMARY')\n",
    "print(model.summary())"
   ]
  },
  {
   "cell_type": "code",
   "execution_count": null,
   "metadata": {},
   "outputs": [],
   "source": [
    "\n"
   ]
  }
 ],
 "metadata": {
  "kernelspec": {
   "display_name": "Python 3",
   "language": "python",
   "name": "python3"
  },
  "language_info": {
   "codemirror_mode": {
    "name": "ipython",
    "version": 3
   },
   "file_extension": ".py",
   "mimetype": "text/x-python",
   "name": "python",
   "nbconvert_exporter": "python",
   "pygments_lexer": "ipython3",
   "version": "3.6.4"
  }
 },
 "nbformat": 4,
 "nbformat_minor": 2
}
